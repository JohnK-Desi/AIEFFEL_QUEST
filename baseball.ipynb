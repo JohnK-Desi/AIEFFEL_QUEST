{
  "cells": [
    {
      "cell_type": "markdown",
      "metadata": {
        "id": "view-in-github",
        "colab_type": "text"
      },
      "source": [
        "<a href=\"https://colab.research.google.com/github/JohnK-Desi/AIEFFEL_QUEST/blob/main/baseball.ipynb\" target=\"_parent\"><img src=\"https://colab.research.google.com/assets/colab-badge.svg\" alt=\"Open In Colab\"/></a>"
      ]
    },
    {
      "cell_type": "code",
      "execution_count": null,
      "metadata": {
        "colab": {
          "base_uri": "https://localhost:8080/"
        },
        "id": "JR7B2jRp-GCW",
        "outputId": "6730123f-8ecd-46c6-8d08-1383fea334a4"
      },
      "outputs": [
        {
          "name": "stdout",
          "output_type": "stream",
          "text": [
            "정답 : [3, 4, 0, 1, 9]\n",
            "0부터 9까지의 숫자를 겹치지 않고 5개 입력해주세요(ex 12345): 12345\n",
            "입력하신 숫자: [1, 2, 3, 4, 5]\n",
            "strike는 0개, ball은 3개\n",
            "0부터 9까지의 숫자를 겹치지 않고 5개 입력해주세요(ex 12345): 34019\n",
            "입력하신 숫자: [3, 4, 0, 1, 9]\n",
            "strike는 5개, ball은 0개\n",
            "축하합니다 정답을 맞추셨습니다\n"
          ]
        }
      ],
      "source": [
        ",import random\n",
        "result=random.sample(range(10),5)\n",
        "#정답칸은 실제로 사용할때 지우고 하시면 됩니다\n",
        "print(f\"정답 : {result}\")\n",
        "#정답을 맞출때까지 무한반복루프\n",
        "while True:\n",
        "  user_num=list(map(int,input(\"0부터 9까지의 숫자를 겹치지 않고 5개 입력해주세요(ex 12345): \")))\n",
        "  #5자리수가 아니면 다시 숫자를 받아옴\n",
        "  if len(user_num)!=5:\n",
        "    print(\"반드시 겹치지 않는 정수 5개를 입력해주세요\")\n",
        "    continue\n",
        "  print(f\"입력하신 숫자: {user_num}\")\n",
        "  #스트라이크,볼 변수 생성\n",
        "  strike=0\n",
        "  ball=0\n",
        "  #숫자,자리 모두 맞으면 strike+1, 숫자만 맞으면 ball+1\n",
        "  for i in range(5):\n",
        "    if result[i]==user_num[i]:\n",
        "      strike+=1\n",
        "    elif user_num[i] in result:\n",
        "      ball+=1\n",
        "  print(f\"strike는 {strike}개, ball은 {ball}개\")\n",
        "  #스트라이크가 5개, 정답일때 무한루프 빠져나올수있음\n",
        "  if strike==5:\n",
        "    print(\"축하합니다 정답을 맞추셨습니다\")\n",
        "    break"
      ]
    },
    {
      "cell_type": "code",
      "execution_count": null,
      "metadata": {
        "id": "9L_jVNT2cbsh"
      },
      "outputs": [],
      "source": []
    },
    {
      "cell_type": "markdown",
      "metadata": {
        "id": "VJ8Oh5WBCODv"
      },
      "source": []
    },
    {
      "cell_type": "code",
      "execution_count": null,
      "metadata": {
        "colab": {
          "background_save": true,
          "base_uri": "https://localhost:8080/"
        },
        "id": "SGCuSN6GTBIn",
        "outputId": "4ef63f42-af25-4a67-a6da-5a25a4428039"
      },
      "outputs": [
        {
          "name": "stdout",
          "output_type": "stream",
          "text": [
            "randon number 정답 : [1, 5, 7, 8, 9]\n",
            "입력한 숫자 : [1, 2, 3, 4, 5]\n",
            "strike\n",
            "ball\n",
            "ball\n",
            "ball\n",
            "ball\n",
            "입력한 숫자 : [1, 5, 7, 8, 9]\n",
            "strike\n",
            "strike\n",
            "strike\n",
            "strike\n",
            "strike\n"
          ]
        }
      ],
      "source": [
        "import random\n",
        "result = random.sample(range(10), 5)\n",
        "print(f\"randon number 정답 : {result}\")\n",
        "while True:\n",
        "    user_num = list(map(int, input(\"0부터 9까지 숫자를 겹치지 않게 입력\")))\n",
        "    if len(user_num) != 5:\n",
        "        print(\"각기 다른 숫자 5개를 입력하세요.\")\n",
        "        continue\n",
        "    print(f\"입력한 숫자 : {user_num}\")\n",
        "    for i in range(5):\n",
        "        if result[i] == user_num[i]:\n",
        "            print(\"strike\")\n",
        "        if result[i] != user_num[i]:\n",
        "            print(\"ball\")"
      ]
    }
  ],
  "metadata": {
    "colab": {
      "provenance": [],
      "include_colab_link": true
    },
    "kernelspec": {
      "display_name": "Python 3",
      "name": "python3"
    },
    "language_info": {
      "name": "python"
    }
  },
  "nbformat": 4,
  "nbformat_minor": 0
}